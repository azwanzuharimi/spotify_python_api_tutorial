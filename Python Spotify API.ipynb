{
 "cells": [
  {
   "cell_type": "code",
   "execution_count": null,
   "metadata": {},
   "outputs": [],
   "source": [
    "import os\n",
    "import requests\n",
    "import dotenv\n",
    "import base64 # used to encode strings into bytes and back\n",
    "import json # used to convert JSON data into strings\n",
    "import webbrowser\n",
    "from urllib.parse import urlencode\n",
    "\n",
    "# Credits to original article https://python.plainenglish.io/bored-of-libraries-heres-how-to-connect-to-the-spotify-api-using-pure-python-bd31e9e3d88a"
   ]
  },
  {
   "cell_type": "code",
   "execution_count": 2,
   "metadata": {},
   "outputs": [
    {
     "data": {
      "text/plain": [
       "True"
      ]
     },
     "execution_count": 2,
     "metadata": {},
     "output_type": "execute_result"
    }
   ],
   "source": [
    "dotenv.load_dotenv()\n",
    "client_id = os.getenv(\"client_id\")\n",
    "client_secret = os.getenv(\"client_secret\")\n",
    "# print(client_id, client_secret)"
   ]
  },
  {
   "cell_type": "code",
   "execution_count": 55,
   "metadata": {},
   "outputs": [],
   "source": [
    "## Step 1\n",
    "# This is necessary to get authorization code, we run the function below to open web browser, and extract the code in URL after authentication\n",
    "# This auth code will then be used in step 2\n",
    "\n",
    "def get_auth_code():\n",
    "    auth_headers = {\n",
    "    \"client_id\": os.getenv(\"client_id\"),\n",
    "    \"response_type\": \"code\",\n",
    "    \"redirect_uri\": \"https://localhost:3000\", # Based on Spotify web app setting redirect url\n",
    "    \"scope\": 'user-read-recently-played' # Specify the auth code scope. Refer https://developer.spotify.com/documentation/web-api/concepts/scopes#user-read-recently-played\n",
    "    }\n",
    "    webbrowser.open(\"https://accounts.spotify.com/authorize?\" + urlencode(auth_headers))\n",
    "\n",
    "get_auth_code()\n",
    "\n"
   ]
  },
  {
   "cell_type": "code",
   "execution_count": 56,
   "metadata": {},
   "outputs": [],
   "source": [
    "code = 'AQCXXY1_eIc8ILHwEobU1XxMSe8wRI2poQ3y6LJ3MPDqbKVJrWCGoYd0-yVFwQIfkmKbGpNsszb8bK1ks5V8oFvu79xItBX9hni1DhEaPvqN9ks175QvBGrXlO4skKLGcFgNm6MVZpgahx2BjseT_Ssbh_FB2Q0-3UeGMnvGg-n6xoSLxgWbE2M62Zco4xAWDyezO2E'"
   ]
  },
  {
   "cell_type": "code",
   "execution_count": 57,
   "metadata": {},
   "outputs": [],
   "source": [
    "## Step 2\n",
    "# We pass the auth code above into the function below to get Bearer token \n",
    "def get_bearer_token():\n",
    "    encoded_credentials = base64.b64encode(os.getenv('client_id').encode() + b':' + os.getenv('client_secret').encode()).decode(\"utf-8\")\n",
    "\n",
    "    token_headers = {\n",
    "        \"Authorization\": \"Basic \" + encoded_credentials,\n",
    "        \"Content-Type\": \"application/x-www-form-urlencoded\"\n",
    "    }\n",
    "\n",
    "    token_data = {\n",
    "        \"grant_type\": \"authorization_code\",\n",
    "        \"code\": code,\n",
    "        \"redirect_uri\": \"https://localhost:3000\"\n",
    "    }\n",
    "\n",
    "    r = requests.post(\"https://accounts.spotify.com/api/token\", data=token_data, headers=token_headers)\n",
    "    return r.content"
   ]
  },
  {
   "cell_type": "code",
   "execution_count": 58,
   "metadata": {},
   "outputs": [],
   "source": [
    "# Only run this once per auth code, if we rerun again it will return error\n",
    "token_details = json.loads(get_bearer_token())\n",
    "token_details['access_token']"
   ]
  },
  {
   "cell_type": "code",
   "execution_count": 61,
   "metadata": {},
   "outputs": [
    {
     "data": {
      "text/plain": [
       "{'error': {'status': 403, 'message': 'Forbidden.'}}"
      ]
     },
     "execution_count": 61,
     "metadata": {},
     "output_type": "execute_result"
    }
   ],
   "source": [
    "## Step 3a\n",
    "# This is the function to retrieve our data in Spotify\n",
    "# Scope = \"user-library-read\"\n",
    "def get_user_libs():\n",
    "    url = \"https://api.spotify.com/v1/me/tracks\"\n",
    "    # headers = get_auth_header(token_details['access_token']) # Authorization: Bearer ....\n",
    "\n",
    "    user_headers = {\n",
    "    \"Authorization\": \"Bearer \" + token_details['access_token'],\n",
    "    \"Content-Type\": \"application/json\"\n",
    "}\n",
    "    \n",
    "    user_params = {\"limit\": 50}\n",
    "\n",
    "    return requests.get(url, params=user_params, headers=user_headers)\n",
    "\n",
    "json.loads(get_user_libs().content)"
   ]
  },
  {
   "cell_type": "code",
   "execution_count": 68,
   "metadata": {},
   "outputs": [],
   "source": [
    "## Step 3b\n",
    "# This is the function to retrieve our data in Spotify\n",
    "# Scope = \"user-read-recently-played\"\n",
    "def get_recently_played():    \n",
    "    headerr = {\"Authorization\" : \"Bearer \" + token_details['access_token']}  \n",
    "\n",
    "    return requests.get('https://api.spotify.com/v1/me/player/recently-played', \n",
    "        headers=headerr\n",
    "        ).content\n",
    "\n",
    "tracks = json.loads(get_recently_played())['items']"
   ]
  },
  {
   "cell_type": "code",
   "execution_count": 78,
   "metadata": {},
   "outputs": [
    {
     "name": "stdout",
     "output_type": "stream",
     "text": [
      "ARTIST NAME: Satin Jackets\n",
      "TRACK NAME: Out of My Head\n"
     ]
    }
   ],
   "source": [
    "print(\"ARTIST NAME:\" ,tracks[0]['track']['artists'][0]['name'])\n",
    "print(\"TRACK NAME:\", tracks[0]['track']['name'])"
   ]
  }
 ],
 "metadata": {
  "kernelspec": {
   "display_name": "python311env",
   "language": "python",
   "name": "python3"
  },
  "language_info": {
   "codemirror_mode": {
    "name": "ipython",
    "version": 3
   },
   "file_extension": ".py",
   "mimetype": "text/x-python",
   "name": "python",
   "nbconvert_exporter": "python",
   "pygments_lexer": "ipython3",
   "version": "3.11.4"
  },
  "orig_nbformat": 4
 },
 "nbformat": 4,
 "nbformat_minor": 2
}
